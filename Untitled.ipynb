{
 "cells": [
  {
   "cell_type": "code",
   "execution_count": 25,
   "metadata": {},
   "outputs": [],
   "source": [
    "%matplotlib inline\n",
    "\n",
    "import pickle\n",
    "import matplotlib.pyplot as plt\n",
    "import numpy as np\n",
    "from tensorflow import keras\n",
    "import os\n",
    "import cv2\n",
    "from PIL import Image"
   ]
  },
  {
   "cell_type": "code",
   "execution_count": 26,
   "metadata": {},
   "outputs": [],
   "source": [
    "model = keras.models.load_model(\"Traffic_Sign_Net\")\n",
    "\n",
    "data = []\n",
    "labels = []\n",
    "height = 30\n",
    "width = 30\n",
    "channels = 3\n",
    "classes = 43\n",
    "n_inputs = height * width * channels"
   ]
  },
  {
   "cell_type": "code",
   "execution_count": null,
   "metadata": {},
   "outputs": [],
   "source": [
    "sign_label = [\"20 km/h\",\"30 km/h\",\"50 km/h\",\"60 km/h\",\"70 km/h\",\"80 km/h\",\"80 km/h Aufhebung\",\"100 km/h\",\n",
    "          \"120 km/h\", \"Überholverbot\", \"LKW-Überholverbot\", \"Vorfahrt\", \"Vorfahrtsstraße\",\"Vorfahrt gewähren\", \n",
    "          \"Stop\",\"Fahrverbot\",\"Verbot für Lastwagen\",\"Einfahrt verboten\",\"Gefahr\",\"Linkskurve\",\"Rechtskurve\",\"Doppelkurve\",\n",
    "          \"Bodenwelle\",\"Schleudergefahr\",\"Verengung\",\"Baustelle\",\"Ampel\",\"Zebrastreifen\",\"Kinder\",\"Fahrradweg\",\"Schneegefahr\",\n",
    "          \"Wildwechsel\",\"Unbegrenzte Geschwindigkeit\",\"Rechtsabbiegen\", \"Linksabbiegen\", \"Geradeaus fahren\", \"Geradeaus oder Rechtsabbiegen\",\n",
    "          \"Geradeaus oder Linksabbiegen\", \"Hindernis rechts umfahren\", \" Hindernis links umfahren\", \"Kreisverkehr\", \"Ende des Überholverbotes\",\n",
    "          \"Ende des LKW-Überholverbotes\"]"
   ]
  },
  {
   "cell_type": "code",
   "execution_count": 27,
   "metadata": {},
   "outputs": [
    {
     "name": "stdout",
     "output_type": "stream",
     "text": [
      "C:\\Users\\z0045vws\\Desktop\\TH_Koeln_Projekt_Adversarial_Attack\\Train\\0/\n",
      "C:\\Users\\z0045vws\\Desktop\\TH_Koeln_Projekt_Adversarial_Attack\\Train\\1/\n",
      "C:\\Users\\z0045vws\\Desktop\\TH_Koeln_Projekt_Adversarial_Attack\\Train\\2/\n",
      "C:\\Users\\z0045vws\\Desktop\\TH_Koeln_Projekt_Adversarial_Attack\\Train\\3/\n",
      "C:\\Users\\z0045vws\\Desktop\\TH_Koeln_Projekt_Adversarial_Attack\\Train\\4/\n",
      "C:\\Users\\z0045vws\\Desktop\\TH_Koeln_Projekt_Adversarial_Attack\\Train\\5/\n",
      "C:\\Users\\z0045vws\\Desktop\\TH_Koeln_Projekt_Adversarial_Attack\\Train\\6/\n",
      "C:\\Users\\z0045vws\\Desktop\\TH_Koeln_Projekt_Adversarial_Attack\\Train\\7/\n",
      "C:\\Users\\z0045vws\\Desktop\\TH_Koeln_Projekt_Adversarial_Attack\\Train\\8/\n",
      "C:\\Users\\z0045vws\\Desktop\\TH_Koeln_Projekt_Adversarial_Attack\\Train\\9/\n",
      "C:\\Users\\z0045vws\\Desktop\\TH_Koeln_Projekt_Adversarial_Attack\\Train\\10/\n",
      "C:\\Users\\z0045vws\\Desktop\\TH_Koeln_Projekt_Adversarial_Attack\\Train\\11/\n",
      "C:\\Users\\z0045vws\\Desktop\\TH_Koeln_Projekt_Adversarial_Attack\\Train\\12/\n",
      "C:\\Users\\z0045vws\\Desktop\\TH_Koeln_Projekt_Adversarial_Attack\\Train\\13/\n",
      "C:\\Users\\z0045vws\\Desktop\\TH_Koeln_Projekt_Adversarial_Attack\\Train\\14/\n",
      "C:\\Users\\z0045vws\\Desktop\\TH_Koeln_Projekt_Adversarial_Attack\\Train\\15/\n",
      "C:\\Users\\z0045vws\\Desktop\\TH_Koeln_Projekt_Adversarial_Attack\\Train\\16/\n",
      "C:\\Users\\z0045vws\\Desktop\\TH_Koeln_Projekt_Adversarial_Attack\\Train\\17/\n",
      "C:\\Users\\z0045vws\\Desktop\\TH_Koeln_Projekt_Adversarial_Attack\\Train\\18/\n",
      "C:\\Users\\z0045vws\\Desktop\\TH_Koeln_Projekt_Adversarial_Attack\\Train\\19/\n",
      "C:\\Users\\z0045vws\\Desktop\\TH_Koeln_Projekt_Adversarial_Attack\\Train\\20/\n",
      "C:\\Users\\z0045vws\\Desktop\\TH_Koeln_Projekt_Adversarial_Attack\\Train\\21/\n",
      "C:\\Users\\z0045vws\\Desktop\\TH_Koeln_Projekt_Adversarial_Attack\\Train\\22/\n",
      "C:\\Users\\z0045vws\\Desktop\\TH_Koeln_Projekt_Adversarial_Attack\\Train\\23/\n",
      "C:\\Users\\z0045vws\\Desktop\\TH_Koeln_Projekt_Adversarial_Attack\\Train\\24/\n",
      "C:\\Users\\z0045vws\\Desktop\\TH_Koeln_Projekt_Adversarial_Attack\\Train\\25/\n",
      "C:\\Users\\z0045vws\\Desktop\\TH_Koeln_Projekt_Adversarial_Attack\\Train\\26/\n",
      "C:\\Users\\z0045vws\\Desktop\\TH_Koeln_Projekt_Adversarial_Attack\\Train\\27/\n",
      "C:\\Users\\z0045vws\\Desktop\\TH_Koeln_Projekt_Adversarial_Attack\\Train\\28/\n",
      "C:\\Users\\z0045vws\\Desktop\\TH_Koeln_Projekt_Adversarial_Attack\\Train\\29/\n",
      "C:\\Users\\z0045vws\\Desktop\\TH_Koeln_Projekt_Adversarial_Attack\\Train\\30/\n",
      "C:\\Users\\z0045vws\\Desktop\\TH_Koeln_Projekt_Adversarial_Attack\\Train\\31/\n",
      "C:\\Users\\z0045vws\\Desktop\\TH_Koeln_Projekt_Adversarial_Attack\\Train\\32/\n",
      "C:\\Users\\z0045vws\\Desktop\\TH_Koeln_Projekt_Adversarial_Attack\\Train\\33/\n",
      "C:\\Users\\z0045vws\\Desktop\\TH_Koeln_Projekt_Adversarial_Attack\\Train\\34/\n",
      "C:\\Users\\z0045vws\\Desktop\\TH_Koeln_Projekt_Adversarial_Attack\\Train\\35/\n",
      "C:\\Users\\z0045vws\\Desktop\\TH_Koeln_Projekt_Adversarial_Attack\\Train\\36/\n",
      "C:\\Users\\z0045vws\\Desktop\\TH_Koeln_Projekt_Adversarial_Attack\\Train\\37/\n",
      "C:\\Users\\z0045vws\\Desktop\\TH_Koeln_Projekt_Adversarial_Attack\\Train\\38/\n",
      "C:\\Users\\z0045vws\\Desktop\\TH_Koeln_Projekt_Adversarial_Attack\\Train\\39/\n",
      "C:\\Users\\z0045vws\\Desktop\\TH_Koeln_Projekt_Adversarial_Attack\\Train\\40/\n",
      "C:\\Users\\z0045vws\\Desktop\\TH_Koeln_Projekt_Adversarial_Attack\\Train\\41/\n",
      "C:\\Users\\z0045vws\\Desktop\\TH_Koeln_Projekt_Adversarial_Attack\\Train\\42/\n"
     ]
    }
   ],
   "source": [
    "for i in range(classes):\n",
    "    path = r\"C:\\Users\\z0045vws\\Desktop\\TH_Koeln_Projekt_Adversarial_Attack\\Train\\{0}/\".format(i)\n",
    "    print(path)\n",
    "    Class = os.listdir(path)\n",
    "    for a in Class:\n",
    "        try:\n",
    "            image = cv2.imread(path + a)\n",
    "            image_from_array = Image.fromarray(image, 'RGB')\n",
    "            size_image = image_from_array.resize((height, width))\n",
    "            data.append(np.array(size_image))\n",
    "            labels.append(i)\n",
    "        except AttributeError:\n",
    "            print(\" \")"
   ]
  },
  {
   "cell_type": "code",
   "execution_count": null,
   "metadata": {},
   "outputs": [],
   "source": [
    "Cells = np.array(data)\n",
    "labels = np.array(labels)"
   ]
  }
 ],
 "metadata": {
  "kernelspec": {
   "display_name": "Python 3",
   "language": "python",
   "name": "python3"
  },
  "language_info": {
   "codemirror_mode": {
    "name": "ipython",
    "version": 3
   },
   "file_extension": ".py",
   "mimetype": "text/x-python",
   "name": "python",
   "nbconvert_exporter": "python",
   "pygments_lexer": "ipython3",
   "version": "3.8.3"
  }
 },
 "nbformat": 4,
 "nbformat_minor": 4
}
