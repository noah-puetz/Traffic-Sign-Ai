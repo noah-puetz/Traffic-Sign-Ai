{
 "cells": [
  {
   "cell_type": "markdown",
   "metadata": {},
   "source": [
    "# **Traffic Sign AI**"
   ]
  },
  {
   "cell_type": "code",
   "execution_count": 60,
   "metadata": {},
   "outputs": [],
   "source": [
    "# Imports\n",
    "%load_ext tensorboard\n",
    "import os\n",
    "import numpy as np\n",
    "import pandas as pd\n",
    "import matplotlib.pyplot as plt\n",
    "import tensorflow as tf\n",
    "import cv2\n",
    "from PIL import Image"
   ]
  },
  {
   "cell_type": "code",
   "execution_count": 2,
   "metadata": {},
   "outputs": [],
   "source": [
    "# Metadaten für das Programm \n",
    "data = []\n",
    "labels = []\n",
    "height = 30\n",
    "width = 30\n",
    "channels = 3\n",
    "classes = 43\n",
    "input_size = height * width * channels"
   ]
  },
  {
   "cell_type": "code",
   "execution_count": 3,
   "metadata": {},
   "outputs": [],
   "source": [
    "# Verkehrsschilder \n",
    "sign_label = [\"20 km/h\",\"30 km/h\",\"50 km/h\",\"60 km/h\",\"70 km/h\",\"80 km/h\",\"80 km/h Aufhebung\",\"100 km/h\",\n",
    "          \"120 km/h\", \"Überholverbot\", \"LKW-Überholverbot\", \"Vorfahrt\", \"Vorfahrtsstraße\",\"Vorfahrt gewähren\", \n",
    "          \"Stop\",\"Fahrverbot\",\"Verbot für Lastwagen\",\"Einfahrt verboten\",\"Gefahr\",\"Linkskurve\",\"Rechtskurve\",\"Doppelkurve\",\n",
    "          \"Bodenwelle\",\"Schleudergefahr\",\"Verengung\",\"Baustelle\",\"Ampel\",\"Zebrastreifen\",\"Kinder\",\"Fahrradweg\",\"Schneegefahr\",\n",
    "          \"Wildwechsel\",\"Unbegrenzte Geschwindigkeit\",\"Rechtsabbiegen\", \"Linksabbiegen\", \"Geradeaus fahren\", \"Geradeaus oder Rechtsabbiegen\",\n",
    "          \"Geradeaus oder Linksabbiegen\", \"Hindernis rechts umfahren\", \" Hindernis links umfahren\", \"Kreisverkehr\", \"Ende des Überholverbotes\",\n",
    "          \"Ende des LKW-Überholverbotes\"]"
   ]
  },
  {
   "cell_type": "code",
   "execution_count": 4,
   "metadata": {},
   "outputs": [
    {
     "name": "stdout",
     "output_type": "stream",
     "text": [
      "C:\\Users\\z0045vws\\Desktop\\TH_Koeln_Projekt_Adversarial_Attack\\Train\\0/\n",
      "C:\\Users\\z0045vws\\Desktop\\TH_Koeln_Projekt_Adversarial_Attack\\Train\\1/\n",
      "C:\\Users\\z0045vws\\Desktop\\TH_Koeln_Projekt_Adversarial_Attack\\Train\\2/\n",
      "C:\\Users\\z0045vws\\Desktop\\TH_Koeln_Projekt_Adversarial_Attack\\Train\\3/\n",
      "C:\\Users\\z0045vws\\Desktop\\TH_Koeln_Projekt_Adversarial_Attack\\Train\\4/\n",
      "C:\\Users\\z0045vws\\Desktop\\TH_Koeln_Projekt_Adversarial_Attack\\Train\\5/\n",
      "C:\\Users\\z0045vws\\Desktop\\TH_Koeln_Projekt_Adversarial_Attack\\Train\\6/\n",
      "C:\\Users\\z0045vws\\Desktop\\TH_Koeln_Projekt_Adversarial_Attack\\Train\\7/\n",
      "C:\\Users\\z0045vws\\Desktop\\TH_Koeln_Projekt_Adversarial_Attack\\Train\\8/\n",
      "C:\\Users\\z0045vws\\Desktop\\TH_Koeln_Projekt_Adversarial_Attack\\Train\\9/\n",
      "C:\\Users\\z0045vws\\Desktop\\TH_Koeln_Projekt_Adversarial_Attack\\Train\\10/\n",
      "C:\\Users\\z0045vws\\Desktop\\TH_Koeln_Projekt_Adversarial_Attack\\Train\\11/\n",
      "C:\\Users\\z0045vws\\Desktop\\TH_Koeln_Projekt_Adversarial_Attack\\Train\\12/\n",
      "C:\\Users\\z0045vws\\Desktop\\TH_Koeln_Projekt_Adversarial_Attack\\Train\\13/\n",
      "C:\\Users\\z0045vws\\Desktop\\TH_Koeln_Projekt_Adversarial_Attack\\Train\\14/\n",
      "C:\\Users\\z0045vws\\Desktop\\TH_Koeln_Projekt_Adversarial_Attack\\Train\\15/\n",
      "C:\\Users\\z0045vws\\Desktop\\TH_Koeln_Projekt_Adversarial_Attack\\Train\\16/\n",
      "C:\\Users\\z0045vws\\Desktop\\TH_Koeln_Projekt_Adversarial_Attack\\Train\\17/\n",
      "C:\\Users\\z0045vws\\Desktop\\TH_Koeln_Projekt_Adversarial_Attack\\Train\\18/\n",
      "C:\\Users\\z0045vws\\Desktop\\TH_Koeln_Projekt_Adversarial_Attack\\Train\\19/\n",
      "C:\\Users\\z0045vws\\Desktop\\TH_Koeln_Projekt_Adversarial_Attack\\Train\\20/\n",
      "C:\\Users\\z0045vws\\Desktop\\TH_Koeln_Projekt_Adversarial_Attack\\Train\\21/\n",
      "C:\\Users\\z0045vws\\Desktop\\TH_Koeln_Projekt_Adversarial_Attack\\Train\\22/\n",
      "C:\\Users\\z0045vws\\Desktop\\TH_Koeln_Projekt_Adversarial_Attack\\Train\\23/\n",
      "C:\\Users\\z0045vws\\Desktop\\TH_Koeln_Projekt_Adversarial_Attack\\Train\\24/\n",
      "C:\\Users\\z0045vws\\Desktop\\TH_Koeln_Projekt_Adversarial_Attack\\Train\\25/\n",
      "C:\\Users\\z0045vws\\Desktop\\TH_Koeln_Projekt_Adversarial_Attack\\Train\\26/\n",
      "C:\\Users\\z0045vws\\Desktop\\TH_Koeln_Projekt_Adversarial_Attack\\Train\\27/\n",
      "C:\\Users\\z0045vws\\Desktop\\TH_Koeln_Projekt_Adversarial_Attack\\Train\\28/\n",
      "C:\\Users\\z0045vws\\Desktop\\TH_Koeln_Projekt_Adversarial_Attack\\Train\\29/\n",
      "C:\\Users\\z0045vws\\Desktop\\TH_Koeln_Projekt_Adversarial_Attack\\Train\\30/\n",
      "C:\\Users\\z0045vws\\Desktop\\TH_Koeln_Projekt_Adversarial_Attack\\Train\\31/\n",
      "C:\\Users\\z0045vws\\Desktop\\TH_Koeln_Projekt_Adversarial_Attack\\Train\\32/\n",
      "C:\\Users\\z0045vws\\Desktop\\TH_Koeln_Projekt_Adversarial_Attack\\Train\\33/\n",
      "C:\\Users\\z0045vws\\Desktop\\TH_Koeln_Projekt_Adversarial_Attack\\Train\\34/\n",
      "C:\\Users\\z0045vws\\Desktop\\TH_Koeln_Projekt_Adversarial_Attack\\Train\\35/\n",
      "C:\\Users\\z0045vws\\Desktop\\TH_Koeln_Projekt_Adversarial_Attack\\Train\\36/\n",
      "C:\\Users\\z0045vws\\Desktop\\TH_Koeln_Projekt_Adversarial_Attack\\Train\\37/\n",
      "C:\\Users\\z0045vws\\Desktop\\TH_Koeln_Projekt_Adversarial_Attack\\Train\\38/\n",
      "C:\\Users\\z0045vws\\Desktop\\TH_Koeln_Projekt_Adversarial_Attack\\Train\\39/\n",
      "C:\\Users\\z0045vws\\Desktop\\TH_Koeln_Projekt_Adversarial_Attack\\Train\\40/\n",
      "C:\\Users\\z0045vws\\Desktop\\TH_Koeln_Projekt_Adversarial_Attack\\Train\\41/\n",
      "C:\\Users\\z0045vws\\Desktop\\TH_Koeln_Projekt_Adversarial_Attack\\Train\\42/\n"
     ]
    }
   ],
   "source": [
    "# Einlesen der Bild-Datein\n",
    "for i in range(classes):\n",
    "    path = r\"C:\\Users\\z0045vws\\Desktop\\TH_Koeln_Projekt_Adversarial_Attack\\Train\\{0}/\".format(i)\n",
    "    print(path)\n",
    "    Class = os.listdir(path)\n",
    "    for a in Class:\n",
    "        try:\n",
    "            image = cv2.imread(path + a)\n",
    "            image_from_array = Image.fromarray(image, 'RGB')\n",
    "            size_image = image_from_array.resize((height, width))\n",
    "            data.append(np.array(size_image))\n",
    "            labels.append(i)\n",
    "        except AttributeError:\n",
    "            print(\" \")"
   ]
  },
  {
   "cell_type": "code",
   "execution_count": 49,
   "metadata": {},
   "outputs": [
    {
     "name": "stdout",
     "output_type": "stream",
     "text": [
      "Gesamtzahl der Bilder: 39209\n"
     ]
    },
    {
     "data": {
      "image/png": "[encoded data removed]",
      "text/plain": [
       "<Figure size 432x288 with 1 Axes>"
      ]
     },
     "metadata": {
      "needs_background": "light"
     },
     "output_type": "display_data"
    }
   ],
   "source": [
    "# Zusammenfassen aller Bilder in einem Array\n",
    "Cells = np.array(data)\n",
    "labels = np.array(labels)\n",
    "print(\"Gesamtzahl der Bilder:\",len(Cells))\n",
    "\n",
    "# Darstellen der Bias des Datensets\n",
    "from collections import Counter\n",
    "c = Counter(labels)\n",
    "plt.bar(c.keys(), c.values())\n",
    "plt.show()"
   ]
  },
  {
   "cell_type": "code",
   "execution_count": 50,
   "metadata": {},
   "outputs": [],
   "source": [
    "# Vermischen der Daten und Labels\n",
    "s = np.arange(Cells.shape[0])\n",
    "np.random.seed(43)\n",
    "np.random.shuffle(s)\n",
    "Cells = Cells[s]\n",
    "labels = labels[s]"
   ]
  },
  {
   "cell_type": "code",
   "execution_count": 68,
   "metadata": {},
   "outputs": [
    {
     "data": {
      "image/png": "[encoded data removed]",
      "text/plain": [
       "<Figure size 576x576 with 9 Axes>"
      ]
     },
     "metadata": {
      "needs_background": "light"
     },
     "output_type": "display_data"
    }
   ],
   "source": [
    "# Beispiele aus dem Dataset\n",
    "fig=plt.figure(figsize=(8, 8))\n",
    "columns = 3\n",
    "rows = 3\n",
    "\n",
    "for i in range(1, columns*rows +1):\n",
    "    fig.add_subplot(rows, columns, i)\n",
    "    plt.imshow(Cells[i])\n",
    "    plt.title(sign_label[labels[i]])\n",
    "    plt.axis(\"off\")\n",
    "plt.show()"
   ]
  },
  {
   "cell_type": "code",
   "execution_count": 57,
   "metadata": {},
   "outputs": [
    {
     "name": "stdout",
     "output_type": "stream",
     "text": [
      "Größe des Trainingsets:     31368\n",
      "Größe des Validierungssets: 7841\n"
     ]
    }
   ],
   "source": [
    "# Aufteilen der Daten in ein Trainings- und ein Validierungsset\n",
    "(x_train,x_val)=Cells[(int)(0.2*len(labels)):],Cells[:(int)(0.2*len(labels))]\n",
    "x_train = x_train.astype('float32')/255\n",
    "x_val = x_val.astype('float32')/255\n",
    "(y_train,y_val)=labels[(int)(0.2*len(labels)):],labels[:(int)(0.2*len(labels))]\n",
    "\n",
    "print(\"Größe des Trainingsets:    \",len(x_train))\n",
    "print(\"Größe des Validierungssets:\",len(x_val))"
   ]
  },
  {
   "cell_type": "code",
   "execution_count": 58,
   "metadata": {},
   "outputs": [],
   "source": [
    "# Die Labels mit einem One-Hot-Encoder kategorisieren\n",
    "from tensorflow.keras.utils import to_categorical\n",
    "y_train = to_categorical(y_train, 43)\n",
    "y_val = to_categorical(y_val, 43)"
   ]
  },
  {
   "cell_type": "code",
   "execution_count": 61,
   "metadata": {},
   "outputs": [
    {
     "name": "stdout",
     "output_type": "stream",
     "text": [
      "Model: \"sequential_1\"\n",
      "_________________________________________________________________\n",
      "Layer (type)                 Output Shape              Param #   \n",
      "=================================================================\n",
      "conv2d_3 (Conv2D)            (None, 26, 26, 32)        2432      \n",
      "_________________________________________________________________\n",
      "conv2d_4 (Conv2D)            (None, 24, 24, 64)        18496     \n",
      "_________________________________________________________________\n",
      "max_pooling2d_2 (MaxPooling2 (None, 12, 12, 64)        0         \n",
      "_________________________________________________________________\n",
      "dropout_3 (Dropout)          (None, 12, 12, 64)        0         \n",
      "_________________________________________________________________\n",
      "conv2d_5 (Conv2D)            (None, 10, 10, 64)        36928     \n",
      "_________________________________________________________________\n",
      "max_pooling2d_3 (MaxPooling2 (None, 5, 5, 64)          0         \n",
      "_________________________________________________________________\n",
      "dropout_4 (Dropout)          (None, 5, 5, 64)          0         \n",
      "_________________________________________________________________\n",
      "flatten_1 (Flatten)          (None, 1600)              0         \n",
      "_________________________________________________________________\n",
      "dense_2 (Dense)              (None, 256)               409856    \n",
      "_________________________________________________________________\n",
      "dropout_5 (Dropout)          (None, 256)               0         \n",
      "_________________________________________________________________\n",
      "dense_3 (Dense)              (None, 43)                11051     \n",
      "=================================================================\n",
      "Total params: 478,763\n",
      "Trainable params: 478,763\n",
      "Non-trainable params: 0\n",
      "_________________________________________________________________\n",
      "None\n",
      "Epoch 1/20\n",
      "  2/981 [..............................] - ETA: 8:36 - loss: 3.7857 - accuracy: 0.0000e+00WARNING:tensorflow:Callbacks method `on_train_batch_end` is slow compared to the batch time (batch time: 0.1614s vs `on_train_batch_end` time: 0.8929s). Check your callbacks.\n",
      "981/981 [==============================] - 226s 231ms/step - loss: 3.5187 - accuracy: 0.0539 - val_loss: 3.4979 - val_accuracy: 0.0532\n",
      "Epoch 2/20\n",
      "981/981 [==============================] - 215s 219ms/step - loss: 3.4989 - accuracy: 0.0574 - val_loss: 3.4934 - val_accuracy: 0.0532\n",
      "Epoch 3/20\n",
      "981/981 [==============================] - 202s 206ms/step - loss: 3.4956 - accuracy: 0.0592 - val_loss: 3.4912 - val_accuracy: 0.0533\n",
      "Epoch 4/20\n",
      "981/981 [==============================] - 208s 212ms/step - loss: 3.4938 - accuracy: 0.0556 - val_loss: 3.4896 - val_accuracy: 0.0533\n",
      "Epoch 5/20\n",
      "981/981 [==============================] - 221s 225ms/step - loss: 3.4929 - accuracy: 0.0559 - val_loss: 3.4893 - val_accuracy: 0.0533\n",
      "Epoch 6/20\n",
      "981/981 [==============================] - 238s 243ms/step - loss: 3.4912 - accuracy: 0.0570 - val_loss: 3.4878 - val_accuracy: 0.0533\n",
      "Epoch 7/20\n",
      "981/981 [==============================] - 207s 211ms/step - loss: 3.4899 - accuracy: 0.0569 - val_loss: 3.4881 - val_accuracy: 0.0597\n",
      "Epoch 8/20\n",
      "981/981 [==============================] - 204s 208ms/step - loss: 3.4910 - accuracy: 0.0556 - val_loss: 3.4879 - val_accuracy: 0.0533\n",
      "Epoch 9/20\n",
      "981/981 [==============================] - 217s 222ms/step - loss: 3.4906 - accuracy: 0.0558 - val_loss: 3.4881 - val_accuracy: 0.0533\n",
      "Epoch 10/20\n",
      "981/981 [==============================] - 203s 207ms/step - loss: 3.4906 - accuracy: 0.0560 - val_loss: 3.4875 - val_accuracy: 0.0548\n",
      "Epoch 11/20\n",
      "981/981 [==============================] - 206s 210ms/step - loss: 3.4900 - accuracy: 0.0569 - val_loss: 3.4884 - val_accuracy: 0.0533\n",
      "Epoch 12/20\n",
      "981/981 [==============================] - 211s 215ms/step - loss: 3.4907 - accuracy: 0.0582 - val_loss: 3.4882 - val_accuracy: 0.0548\n",
      "Epoch 13/20\n",
      "981/981 [==============================] - 205s 209ms/step - loss: 3.4894 - accuracy: 0.0588 - val_loss: 3.4884 - val_accuracy: 0.0533\n",
      "Epoch 14/20\n",
      "981/981 [==============================] - 166s 170ms/step - loss: 3.4894 - accuracy: 0.0574 - val_loss: 3.4888 - val_accuracy: 0.0533\n",
      "Epoch 15/20\n",
      "981/981 [==============================] - 118s 120ms/step - loss: 3.4893 - accuracy: 0.0562 - val_loss: 3.4879 - val_accuracy: 0.0533\n",
      "Epoch 16/20\n",
      "981/981 [==============================] - 133s 136ms/step - loss: 3.4889 - accuracy: 0.0578 - val_loss: 3.4873 - val_accuracy: 0.0533\n",
      "Epoch 17/20\n",
      "981/981 [==============================] - 148s 151ms/step - loss: 3.4887 - accuracy: 0.0567 - val_loss: 3.4873 - val_accuracy: 0.0548\n",
      "Epoch 18/20\n",
      "981/981 [==============================] - 141s 144ms/step - loss: 3.4890 - accuracy: 0.0571 - val_loss: 3.4873 - val_accuracy: 0.0548\n",
      "Epoch 19/20\n",
      "981/981 [==============================] - 138s 140ms/step - loss: 3.4887 - accuracy: 0.0563 - val_loss: 3.4874 - val_accuracy: 0.0533\n",
      "Epoch 20/20\n",
      "981/981 [==============================] - 127s 129ms/step - loss: 3.4887 - accuracy: 0.0583 - val_loss: 3.4871 - val_accuracy: 0.0548\n"
     ]
    },
    {
     "data": {
      "text/plain": [
       "<tensorflow.python.keras.callbacks.History at 0x13681d72820>"
      ]
     },
     "execution_count": 61,
     "metadata": {},
     "output_type": "execute_result"
    }
   ],
   "source": [
    "# Aufstellen des Netztes und Trainieren des Netztes\n",
    "\n",
    "from tensorflow.keras.models import Sequential\n",
    "from tensorflow.keras.layers import Conv2D, MaxPool2D, Dense, Flatten, Dropout\n",
    "\n",
    "model = Sequential()\n",
    "model.add(Conv2D(filters=32, kernel_size=(5,5), activation='relu', input_shape=X_train.shape[1:]))\n",
    "model.add(Conv2D(filters=64, kernel_size=(3, 3), activation='relu'))\n",
    "model.add(MaxPool2D(pool_size=(2, 2)))\n",
    "model.add(Dropout(rate=0.25))\n",
    "model.add(Conv2D(filters=64, kernel_size=(3, 3), activation='relu'))\n",
    "model.add(MaxPool2D(pool_size=(2, 2)))\n",
    "model.add(Dropout(rate=0.25))\n",
    "model.add(Flatten())\n",
    "model.add(Dense(256, activation='relu'))\n",
    "model.add(Dropout(rate=0.5))\n",
    "model.add(Dense(43, activation='softmax'))\n",
    "\n",
    "# Kompilieren des Models \n",
    "model.compile(loss='categorical_crossentropy',optimizer='adam',metrics=['accuracy'])\n",
    "print(model.summary())\n",
    "\n",
    "epochs = 20\n",
    "tensorboard_callback = tf.keras.callbacks.TensorBoard(log_dir=\"./logs\")\n",
    "\n",
    "model.fit(X_train, \n",
    "          y_train, \n",
    "          batch_size=32, \n",
    "          epochs=epochs,\n",
    "          validation_data=(X_val, y_val), \n",
    "          callbacks = tensorboard_callback)"
   ]
  },
  {
   "cell_type": "code",
   "execution_count": 64,
   "metadata": {},
   "outputs": [
    {
     "data": {
      "text/plain": [
       "Reusing TensorBoard on port 6006 (pid 60396), started 0:02:31 ago. (Use '!kill 60396' to kill it.)"
      ]
     },
     "metadata": {},
     "output_type": "display_data"
    },
    {
     "data": {
      "text/html": [
       "\n",
       "      <iframe id=\"tensorboard-frame-f3f43ce6838cf635\" width=\"100%\" height=\"800\" frameborder=\"0\">\n",
       "      </iframe>\n",
       "      <script>\n",
       "        (function() {\n",
       "          const frame = document.getElementById(\"tensorboard-frame-f3f43ce6838cf635\");\n",
       "          const url = new URL(\"/\", window.location);\n",
       "          const port = 6006;\n",
       "          if (port) {\n",
       "            url.port = port;\n",
       "          }\n",
       "          frame.src = url;\n",
       "        })();\n",
       "      </script>\n",
       "    "
      ],
      "text/plain": [
       "<IPython.core.display.HTML object>"
      ]
     },
     "metadata": {},
     "output_type": "display_data"
    }
   ],
   "source": [
    "%tensorboard --logdir logs"
   ]
  },
  {
   "cell_type": "code",
   "execution_count": 63,
   "metadata": {},
   "outputs": [
    {
     "ename": "AttributeError",
     "evalue": "'numpy.int32' object has no attribute 'replace'",
     "output_type": "error",
     "traceback": [
      "\u001b[1;31m---------------------------------------------------------------------------\u001b[0m",
      "\u001b[1;31mAttributeError\u001b[0m                            Traceback (most recent call last)",
      "\u001b[1;32m<ipython-input-63-a4aaabc244eb>\u001b[0m in \u001b[0;36m<module>\u001b[1;34m\u001b[0m\n\u001b[0;32m      7\u001b[0m \u001b[1;33m\u001b[0m\u001b[0m\n\u001b[0;32m      8\u001b[0m \u001b[1;32mfor\u001b[0m \u001b[0mf\u001b[0m \u001b[1;32min\u001b[0m \u001b[0mlabels\u001b[0m\u001b[1;33m:\u001b[0m\u001b[1;33m\u001b[0m\u001b[1;33m\u001b[0m\u001b[0m\n\u001b[1;32m----> 9\u001b[1;33m     \u001b[0mimage\u001b[0m\u001b[1;33m=\u001b[0m\u001b[0mcv2\u001b[0m\u001b[1;33m.\u001b[0m\u001b[0mimread\u001b[0m\u001b[1;33m(\u001b[0m\u001b[1;34mr'C:\\Users\\z0045vws\\Desktop\\TH_Koeln_Projekt_Adversarial_Attack\\Test/'\u001b[0m\u001b[1;33m+\u001b[0m\u001b[0mf\u001b[0m\u001b[1;33m.\u001b[0m\u001b[0mreplace\u001b[0m\u001b[1;33m(\u001b[0m\u001b[1;34m'Test'\u001b[0m\u001b[1;33m,\u001b[0m \u001b[1;34m''\u001b[0m\u001b[1;33m)\u001b[0m\u001b[1;33m)\u001b[0m\u001b[1;33m\u001b[0m\u001b[1;33m\u001b[0m\u001b[0m\n\u001b[0m\u001b[0;32m     10\u001b[0m     \u001b[0mimage_from_array\u001b[0m \u001b[1;33m=\u001b[0m \u001b[0mImage\u001b[0m\u001b[1;33m.\u001b[0m\u001b[0mfromarray\u001b[0m\u001b[1;33m(\u001b[0m\u001b[0mimage\u001b[0m\u001b[1;33m,\u001b[0m \u001b[1;34m'RGB'\u001b[0m\u001b[1;33m)\u001b[0m\u001b[1;33m\u001b[0m\u001b[1;33m\u001b[0m\u001b[0m\n\u001b[0;32m     11\u001b[0m     \u001b[0msize_image\u001b[0m \u001b[1;33m=\u001b[0m \u001b[0mimage_from_array\u001b[0m\u001b[1;33m.\u001b[0m\u001b[0mresize\u001b[0m\u001b[1;33m(\u001b[0m\u001b[1;33m(\u001b[0m\u001b[0mheight\u001b[0m\u001b[1;33m,\u001b[0m \u001b[0mwidth\u001b[0m\u001b[1;33m)\u001b[0m\u001b[1;33m)\u001b[0m\u001b[1;33m\u001b[0m\u001b[1;33m\u001b[0m\u001b[0m\n",
      "\u001b[1;31mAttributeError\u001b[0m: 'numpy.int32' object has no attribute 'replace'"
     ]
    }
   ],
   "source": [
    "# Laden der Test-Daten \n",
    "\n",
    "y_test=pd.read_csv(r'C:\\Users\\z0045vws\\Desktop\\TH_Koeln_Projekt_Adversarial_Attack\\Test.csv')\n",
    "names =y_test['Path'].to_numpy()\n",
    "y_test =y_test['ClassId'].values\n",
    "\n",
    "data=[]\n",
    "for f in names:\n",
    "    image=cv2.imread(r'C:\\Users\\z0045vws\\Desktop\\TH_Koeln_Projekt_Adversarial_Attack\\Test/'+f.replace('Test', ''))\n",
    "    image_from_array = Image.fromarray(image, 'RGB')\n",
    "    size_image = image_from_array.resize((height, width))\n",
    "    data.append(np.array(size_image))\n",
    "    \n",
    "X_test=np.array(data)\n",
    "X_test = X_test.astype('float32')/255\n",
    "\n",
    "pred = model.predict(X_test)\n",
    "print(len(pred))"
   ]
  },
  {
   "cell_type": "code",
   "execution_count": null,
   "metadata": {},
   "outputs": [],
   "source": []
  }
 ],
 "metadata": {
  "kernelspec": {
   "display_name": "Python 3",
   "language": "python",
   "name": "python3"
  },
  "language_info": {
   "codemirror_mode": {
    "name": "ipython",
    "version": 3
   },
   "file_extension": ".py",
   "mimetype": "text/x-python",
   "name": "python",
   "nbconvert_exporter": "python",
   "pygments_lexer": "ipython3",
   "version": "3.8.3"
  }
 },
 "nbformat": 4,
 "nbformat_minor": 4
}
